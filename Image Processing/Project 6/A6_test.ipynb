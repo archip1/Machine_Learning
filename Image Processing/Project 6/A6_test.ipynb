{
  "cells": [
    {
      "cell_type": "code",
      "execution_count": null,
      "metadata": {
        "id": "JJcSTvI_AWpk"
      },
      "outputs": [],
      "source": [
        "!python3 -m pip install --upgrade paramparse patchify"
      ]
    },
    {
      "cell_type": "markdown",
      "metadata": {
        "id": "sWyZrVw8Ym5I"
      },
      "source": [
        "Upload A6_test.so to Google Drive along with your submission folder (containing A6_submission.py and checkpoints) and enter the path to the folder here\n",
        "\n",
        "You can also upload multiple versions of your submission into separate folders in which case all of them will be evaluated"
      ]
    },
    {
      "cell_type": "code",
      "execution_count": null,
      "metadata": {
        "id": "SxOLYI2nASWE"
      },
      "outputs": [],
      "source": [
        "test_dir=\"/content/drive/MyDrive/#ta/206 W24/A6/submissions\""
      ]
    },
    {
      "cell_type": "code",
      "execution_count": null,
      "metadata": {
        "id": "ePj4ewQWXz0q"
      },
      "outputs": [],
      "source": [
        "import os\n",
        "os.chdir(test_dir)\n",
        "\n",
        "import A6_test\n",
        "A6_test.run()"
      ]
    }
  ],
  "metadata": {
    "accelerator": "GPU",
    "colab": {
      "gpuType": "T4",
      "provenance": []
    },
    "kernelspec": {
      "display_name": "Julia 1.8.2",
      "language": "julia",
      "name": "julia-1.8"
    },
    "language_info": {
      "file_extension": ".jl",
      "mimetype": "application/julia",
      "name": "julia",
      "version": "1.8.2"
    }
  },
  "nbformat": 4,
  "nbformat_minor": 0
}
